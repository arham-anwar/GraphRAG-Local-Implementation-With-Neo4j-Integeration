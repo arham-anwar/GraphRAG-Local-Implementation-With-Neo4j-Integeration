{
 "cells": [
  {
   "cell_type": "code",
   "execution_count": null,
   "metadata": {},
   "outputs": [],
   "source": [
    "import os\n",
    "import pandas as pd\n",
    "import csv\n",
    "\n",
    "# Define the directory containing Parquet files\n",
    "parquet_dir = \"\"\"/Users/arham/Downloads/Projects - Github/GraphRAG-GROQ/output/20240723-042449/artifactss\"\"\"\n",
    "csv_dir = \"\"\"/Users/arham/Downloads/Projects - Github/GraphRAG-GROQ/csvoutput\"\"\"\n",
    "\n",
    "# Function to clean and properly format the string fields\n",
    "def clean_quotes(value):\n",
    "    if isinstance(value, str):\n",
    "        # Remove extra quotes and strip leading/trailing spaces\n",
    "        value = value.strip().replace('\"\"', '\"').replace('\"', '')\n",
    "        # Ensure proper quoting for fields with commas or quotes\n",
    "        if ',' in value or '\"' in value:\n",
    "            value = f'\"{value}\"'\n",
    "    return value\n",
    "\n",
    "# Convert all Parquet files to CSV\n",
    "for file_name in os.listdir(parquet_dir):\n",
    "    if file_name.endswith('.parquet'):\n",
    "        parquet_file = os.path.join(parquet_dir, file_name)\n",
    "        csv_file = os.path.join(csv_dir, file_name.replace('.parquet', '.csv'))\n",
    "        \n",
    "        # Load the Parquet file\n",
    "        df = pd.read_parquet(parquet_file)\n",
    "        \n",
    "        # Clean quotes in string fields\n",
    "        for column in df.select_dtypes(include=['object']).columns:\n",
    "            df[column] = df[column].apply(clean_quotes)\n",
    "        \n",
    "        # Save to CSV\n",
    "        df.to_csv(csv_file, index=False, quoting=csv.QUOTE_NONNUMERIC)\n",
    "        print(f\"Converted {parquet_file} to {csv_file} successfully.\")\n",
    "\n",
    "print(\"All Parquet files have been converted to CSV.\")"
   ]
  },
  {
   "cell_type": "code",
   "execution_count": null,
   "metadata": {},
   "outputs": [],
   "source": []
  }
 ],
 "metadata": {
  "kernelspec": {
   "display_name": "DataScience",
   "language": "python",
   "name": "python3"
  },
  "language_info": {
   "name": "python",
   "version": "3.10.13"
  }
 },
 "nbformat": 4,
 "nbformat_minor": 2
}
